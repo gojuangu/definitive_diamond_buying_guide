{
 "cells": [
  {
   "cell_type": "markdown",
   "metadata": {},
   "source": [
    "## DIAMONDS MODEL"
   ]
  },
  {
   "cell_type": "markdown",
   "metadata": {},
   "source": [
    "## 1. Data"
   ]
  },
  {
   "cell_type": "code",
   "execution_count": 1,
   "metadata": {},
   "outputs": [],
   "source": [
    "import pandas as pd"
   ]
  },
  {
   "cell_type": "markdown",
   "metadata": {},
   "source": [
    "* diamonds: labeled data we can use for training and testing\n",
    "* diamonds_predict: diamonds to predict its price and upload result to Kaggle"
   ]
  },
  {
   "cell_type": "code",
   "execution_count": 2,
   "metadata": {},
   "outputs": [],
   "source": [
    "diamonds = pd.read_csv('../Downloads/diamonds_train.csv')\n",
    "diamonds_predict = pd.read_csv('../Downloads/diamonds_predict.csv')"
   ]
  },
  {
   "cell_type": "code",
   "execution_count": 3,
   "metadata": {},
   "outputs": [
    {
     "name": "stdout",
     "output_type": "stream",
     "text": [
      "<class 'pandas.core.frame.DataFrame'>\n",
      "RangeIndex: 40455 entries, 0 to 40454\n",
      "Data columns (total 10 columns):\n",
      " #   Column   Non-Null Count  Dtype  \n",
      "---  ------   --------------  -----  \n",
      " 0   carat    40455 non-null  float64\n",
      " 1   cut      40455 non-null  object \n",
      " 2   color    40455 non-null  object \n",
      " 3   clarity  40455 non-null  object \n",
      " 4   depth    40455 non-null  float64\n",
      " 5   table    40455 non-null  float64\n",
      " 6   price    40455 non-null  int64  \n",
      " 7   x        40455 non-null  float64\n",
      " 8   y        40455 non-null  float64\n",
      " 9   z        40455 non-null  float64\n",
      "dtypes: float64(6), int64(1), object(3)\n",
      "memory usage: 3.1+ MB\n"
     ]
    }
   ],
   "source": [
    "diamonds.info()"
   ]
  },
  {
   "cell_type": "code",
   "execution_count": 4,
   "metadata": {},
   "outputs": [
    {
     "name": "stdout",
     "output_type": "stream",
     "text": [
      "<class 'pandas.core.frame.DataFrame'>\n",
      "RangeIndex: 13485 entries, 0 to 13484\n",
      "Data columns (total 10 columns):\n",
      " #   Column   Non-Null Count  Dtype  \n",
      "---  ------   --------------  -----  \n",
      " 0   id       13485 non-null  int64  \n",
      " 1   carat    13485 non-null  float64\n",
      " 2   cut      13485 non-null  object \n",
      " 3   color    13485 non-null  object \n",
      " 4   clarity  13485 non-null  object \n",
      " 5   depth    13485 non-null  float64\n",
      " 6   table    13485 non-null  float64\n",
      " 7   x        13485 non-null  float64\n",
      " 8   y        13485 non-null  float64\n",
      " 9   z        13485 non-null  float64\n",
      "dtypes: float64(6), int64(1), object(3)\n",
      "memory usage: 1.0+ MB\n"
     ]
    }
   ],
   "source": [
    "diamonds_predict.info()"
   ]
  },
  {
   "cell_type": "code",
   "execution_count": 5,
   "metadata": {},
   "outputs": [
    {
     "data": {
      "text/html": [
       "<div>\n",
       "<style scoped>\n",
       "    .dataframe tbody tr th:only-of-type {\n",
       "        vertical-align: middle;\n",
       "    }\n",
       "\n",
       "    .dataframe tbody tr th {\n",
       "        vertical-align: top;\n",
       "    }\n",
       "\n",
       "    .dataframe thead th {\n",
       "        text-align: right;\n",
       "    }\n",
       "</style>\n",
       "<table border=\"1\" class=\"dataframe\">\n",
       "  <thead>\n",
       "    <tr style=\"text-align: right;\">\n",
       "      <th></th>\n",
       "      <th>0</th>\n",
       "      <th>1</th>\n",
       "      <th>2</th>\n",
       "      <th>3</th>\n",
       "      <th>4</th>\n",
       "    </tr>\n",
       "  </thead>\n",
       "  <tbody>\n",
       "    <tr>\n",
       "      <th>carat</th>\n",
       "      <td>1.21</td>\n",
       "      <td>0.32</td>\n",
       "      <td>0.71</td>\n",
       "      <td>0.41</td>\n",
       "      <td>1.02</td>\n",
       "    </tr>\n",
       "    <tr>\n",
       "      <th>cut</th>\n",
       "      <td>Premium</td>\n",
       "      <td>Very Good</td>\n",
       "      <td>Fair</td>\n",
       "      <td>Good</td>\n",
       "      <td>Ideal</td>\n",
       "    </tr>\n",
       "    <tr>\n",
       "      <th>color</th>\n",
       "      <td>J</td>\n",
       "      <td>H</td>\n",
       "      <td>G</td>\n",
       "      <td>D</td>\n",
       "      <td>G</td>\n",
       "    </tr>\n",
       "    <tr>\n",
       "      <th>clarity</th>\n",
       "      <td>VS2</td>\n",
       "      <td>VS2</td>\n",
       "      <td>VS1</td>\n",
       "      <td>SI1</td>\n",
       "      <td>SI1</td>\n",
       "    </tr>\n",
       "    <tr>\n",
       "      <th>depth</th>\n",
       "      <td>62.4</td>\n",
       "      <td>63</td>\n",
       "      <td>65.5</td>\n",
       "      <td>63.8</td>\n",
       "      <td>60.5</td>\n",
       "    </tr>\n",
       "    <tr>\n",
       "      <th>table</th>\n",
       "      <td>58</td>\n",
       "      <td>57</td>\n",
       "      <td>55</td>\n",
       "      <td>56</td>\n",
       "      <td>59</td>\n",
       "    </tr>\n",
       "    <tr>\n",
       "      <th>price</th>\n",
       "      <td>4268</td>\n",
       "      <td>505</td>\n",
       "      <td>2686</td>\n",
       "      <td>738</td>\n",
       "      <td>4882</td>\n",
       "    </tr>\n",
       "    <tr>\n",
       "      <th>x</th>\n",
       "      <td>6.83</td>\n",
       "      <td>4.35</td>\n",
       "      <td>5.62</td>\n",
       "      <td>4.68</td>\n",
       "      <td>6.55</td>\n",
       "    </tr>\n",
       "    <tr>\n",
       "      <th>y</th>\n",
       "      <td>6.79</td>\n",
       "      <td>4.38</td>\n",
       "      <td>5.53</td>\n",
       "      <td>4.72</td>\n",
       "      <td>6.51</td>\n",
       "    </tr>\n",
       "    <tr>\n",
       "      <th>z</th>\n",
       "      <td>4.25</td>\n",
       "      <td>2.75</td>\n",
       "      <td>3.65</td>\n",
       "      <td>3</td>\n",
       "      <td>3.95</td>\n",
       "    </tr>\n",
       "  </tbody>\n",
       "</table>\n",
       "</div>"
      ],
      "text/plain": [
       "               0          1     2     3      4\n",
       "carat       1.21       0.32  0.71  0.41   1.02\n",
       "cut      Premium  Very Good  Fair  Good  Ideal\n",
       "color          J          H     G     D      G\n",
       "clarity      VS2        VS2   VS1   SI1    SI1\n",
       "depth       62.4         63  65.5  63.8   60.5\n",
       "table         58         57    55    56     59\n",
       "price       4268        505  2686   738   4882\n",
       "x           6.83       4.35  5.62  4.68   6.55\n",
       "y           6.79       4.38  5.53  4.72   6.51\n",
       "z           4.25       2.75  3.65     3   3.95"
      ]
     },
     "execution_count": 5,
     "metadata": {},
     "output_type": "execute_result"
    }
   ],
   "source": [
    "diamonds.head().T"
   ]
  },
  {
   "cell_type": "markdown",
   "metadata": {},
   "source": [
    "as you can see, there are both categorical and numerical columns..."
   ]
  },
  {
   "cell_type": "markdown",
   "metadata": {},
   "source": [
    "## 2. EDA"
   ]
  },
  {
   "cell_type": "markdown",
   "metadata": {},
   "source": [
    "this section is up to you! this guided lesson is about a machine learning pipeline..."
   ]
  },
  {
   "cell_type": "code",
   "execution_count": 6,
   "metadata": {},
   "outputs": [],
   "source": [
    "diamonds_predict['volume'] = diamonds_predict['x']*diamonds_predict['y']*diamonds_predict['z']"
   ]
  },
  {
   "cell_type": "code",
   "execution_count": 7,
   "metadata": {},
   "outputs": [],
   "source": [
    "diamonds['volume'] = diamonds['x']*diamonds['y']*diamonds['z']"
   ]
  },
  {
   "cell_type": "code",
   "execution_count": 8,
   "metadata": {},
   "outputs": [],
   "source": [
    "#diamonds.loc[(diamonds['x']==0) | (diamonds['y']==0) | (diamonds['z']==0)]  "
   ]
  },
  {
   "cell_type": "code",
   "execution_count": 9,
   "metadata": {},
   "outputs": [],
   "source": [
    "#diamonds_predict.loc[(diamonds_predict['x']==0) | (diamonds_predict['y']==0) | (diamonds_predict['z']==0)]  "
   ]
  },
  {
   "cell_type": "code",
   "execution_count": 10,
   "metadata": {},
   "outputs": [],
   "source": [
    "#diamonds = diamonds[(diamonds[['x','y','z']] != 0).all(axis=1)]"
   ]
  },
  {
   "cell_type": "code",
   "execution_count": 11,
   "metadata": {},
   "outputs": [],
   "source": [
    "#diamonds_predict = diamonds_predict[(diamonds_predict[['x','y','z']] != 0).all(axis=1)]"
   ]
  },
  {
   "cell_type": "code",
   "execution_count": 12,
   "metadata": {},
   "outputs": [],
   "source": [
    "#diamonds_predict.loc[(diamonds_predict['x']==0) | (diamonds_predict['y']==0) | (diamonds_predict['z']==0)]  "
   ]
  },
  {
   "cell_type": "code",
   "execution_count": 13,
   "metadata": {},
   "outputs": [],
   "source": [
    "#diamonds.loc[(diamonds['x']==0) | (diamonds['y']==0) | (diamonds['z']==0)]  "
   ]
  },
  {
   "cell_type": "code",
   "execution_count": 14,
   "metadata": {},
   "outputs": [],
   "source": [
    "color_dict = {'D':'Colorless','E':'Colorless','F':'Colorless',\n",
    "              'G':'Near Colorless','H':'Near Colorless','I':'Near Colorless','J':'Near Colorless', \n",
    "             'K':'Faint', 'L':'Faint', 'M':'Faint', \n",
    "             'N':'Very Light', 'O':'Very Light', 'P':'Very Light', 'Q':'Very Light', 'R':'Very Light',\n",
    "              'S':'Light', 'T':'Light', 'U':'Light', 'V':'Light', 'W':'Light', 'X':'Light', 'Y':'Light', 'Z':'Light'}\n",
    "\n",
    "clarity_dict = {'FL':'Excelent',\n",
    "                'IF':'Excelent',\n",
    "                'VVS1':'Very Good','VVS2':'Very Good',\n",
    "                'VS1':'Good', 'VS2':'Good',\n",
    "                'SI1':'Fair', 'SI2':'Fair',\n",
    "                'I1':'Poor', 'I2':'Poor','I3':'Poor'}"
   ]
  },
  {
   "cell_type": "code",
   "execution_count": 15,
   "metadata": {},
   "outputs": [],
   "source": [
    "diamonds['color_grp'] = diamonds['color'].map(color_dict)\n",
    "diamonds['clarity_grp'] = diamonds['clarity'].map(clarity_dict)"
   ]
  },
  {
   "cell_type": "code",
   "execution_count": 16,
   "metadata": {},
   "outputs": [],
   "source": [
    "diamonds_predict['color_grp'] = diamonds_predict['color'].map(color_dict)\n",
    "diamonds_predict['clarity_grp'] = diamonds_predict['clarity'].map(clarity_dict)"
   ]
  },
  {
   "cell_type": "code",
   "execution_count": 17,
   "metadata": {},
   "outputs": [
    {
     "data": {
      "text/html": [
       "<div>\n",
       "<style scoped>\n",
       "    .dataframe tbody tr th:only-of-type {\n",
       "        vertical-align: middle;\n",
       "    }\n",
       "\n",
       "    .dataframe tbody tr th {\n",
       "        vertical-align: top;\n",
       "    }\n",
       "\n",
       "    .dataframe thead th {\n",
       "        text-align: right;\n",
       "    }\n",
       "</style>\n",
       "<table border=\"1\" class=\"dataframe\">\n",
       "  <thead>\n",
       "    <tr style=\"text-align: right;\">\n",
       "      <th></th>\n",
       "      <th>carat</th>\n",
       "      <th>cut</th>\n",
       "      <th>color</th>\n",
       "      <th>clarity</th>\n",
       "      <th>depth</th>\n",
       "      <th>table</th>\n",
       "      <th>price</th>\n",
       "      <th>x</th>\n",
       "      <th>y</th>\n",
       "      <th>z</th>\n",
       "      <th>volume</th>\n",
       "      <th>color_grp</th>\n",
       "      <th>clarity_grp</th>\n",
       "    </tr>\n",
       "  </thead>\n",
       "  <tbody>\n",
       "    <tr>\n",
       "      <th>0</th>\n",
       "      <td>1.21</td>\n",
       "      <td>Premium</td>\n",
       "      <td>J</td>\n",
       "      <td>VS2</td>\n",
       "      <td>62.4</td>\n",
       "      <td>58.0</td>\n",
       "      <td>4268</td>\n",
       "      <td>6.83</td>\n",
       "      <td>6.79</td>\n",
       "      <td>4.25</td>\n",
       "      <td>197.096725</td>\n",
       "      <td>Near Colorless</td>\n",
       "      <td>Good</td>\n",
       "    </tr>\n",
       "    <tr>\n",
       "      <th>1</th>\n",
       "      <td>0.32</td>\n",
       "      <td>Very Good</td>\n",
       "      <td>H</td>\n",
       "      <td>VS2</td>\n",
       "      <td>63.0</td>\n",
       "      <td>57.0</td>\n",
       "      <td>505</td>\n",
       "      <td>4.35</td>\n",
       "      <td>4.38</td>\n",
       "      <td>2.75</td>\n",
       "      <td>52.395750</td>\n",
       "      <td>Near Colorless</td>\n",
       "      <td>Good</td>\n",
       "    </tr>\n",
       "    <tr>\n",
       "      <th>2</th>\n",
       "      <td>0.71</td>\n",
       "      <td>Fair</td>\n",
       "      <td>G</td>\n",
       "      <td>VS1</td>\n",
       "      <td>65.5</td>\n",
       "      <td>55.0</td>\n",
       "      <td>2686</td>\n",
       "      <td>5.62</td>\n",
       "      <td>5.53</td>\n",
       "      <td>3.65</td>\n",
       "      <td>113.436890</td>\n",
       "      <td>Near Colorless</td>\n",
       "      <td>Good</td>\n",
       "    </tr>\n",
       "    <tr>\n",
       "      <th>3</th>\n",
       "      <td>0.41</td>\n",
       "      <td>Good</td>\n",
       "      <td>D</td>\n",
       "      <td>SI1</td>\n",
       "      <td>63.8</td>\n",
       "      <td>56.0</td>\n",
       "      <td>738</td>\n",
       "      <td>4.68</td>\n",
       "      <td>4.72</td>\n",
       "      <td>3.00</td>\n",
       "      <td>66.268800</td>\n",
       "      <td>Colorless</td>\n",
       "      <td>Fair</td>\n",
       "    </tr>\n",
       "    <tr>\n",
       "      <th>4</th>\n",
       "      <td>1.02</td>\n",
       "      <td>Ideal</td>\n",
       "      <td>G</td>\n",
       "      <td>SI1</td>\n",
       "      <td>60.5</td>\n",
       "      <td>59.0</td>\n",
       "      <td>4882</td>\n",
       "      <td>6.55</td>\n",
       "      <td>6.51</td>\n",
       "      <td>3.95</td>\n",
       "      <td>168.429975</td>\n",
       "      <td>Near Colorless</td>\n",
       "      <td>Fair</td>\n",
       "    </tr>\n",
       "  </tbody>\n",
       "</table>\n",
       "</div>"
      ],
      "text/plain": [
       "   carat        cut color clarity  depth  table  price     x     y     z  \\\n",
       "0   1.21    Premium     J     VS2   62.4   58.0   4268  6.83  6.79  4.25   \n",
       "1   0.32  Very Good     H     VS2   63.0   57.0    505  4.35  4.38  2.75   \n",
       "2   0.71       Fair     G     VS1   65.5   55.0   2686  5.62  5.53  3.65   \n",
       "3   0.41       Good     D     SI1   63.8   56.0    738  4.68  4.72  3.00   \n",
       "4   1.02      Ideal     G     SI1   60.5   59.0   4882  6.55  6.51  3.95   \n",
       "\n",
       "       volume       color_grp clarity_grp  \n",
       "0  197.096725  Near Colorless        Good  \n",
       "1   52.395750  Near Colorless        Good  \n",
       "2  113.436890  Near Colorless        Good  \n",
       "3   66.268800       Colorless        Fair  \n",
       "4  168.429975  Near Colorless        Fair  "
      ]
     },
     "execution_count": 17,
     "metadata": {},
     "output_type": "execute_result"
    }
   ],
   "source": [
    "diamonds.head()"
   ]
  },
  {
   "cell_type": "code",
   "execution_count": 18,
   "metadata": {},
   "outputs": [
    {
     "data": {
      "text/html": [
       "<div>\n",
       "<style scoped>\n",
       "    .dataframe tbody tr th:only-of-type {\n",
       "        vertical-align: middle;\n",
       "    }\n",
       "\n",
       "    .dataframe tbody tr th {\n",
       "        vertical-align: top;\n",
       "    }\n",
       "\n",
       "    .dataframe thead th {\n",
       "        text-align: right;\n",
       "    }\n",
       "</style>\n",
       "<table border=\"1\" class=\"dataframe\">\n",
       "  <thead>\n",
       "    <tr style=\"text-align: right;\">\n",
       "      <th></th>\n",
       "      <th>id</th>\n",
       "      <th>carat</th>\n",
       "      <th>cut</th>\n",
       "      <th>color</th>\n",
       "      <th>clarity</th>\n",
       "      <th>depth</th>\n",
       "      <th>table</th>\n",
       "      <th>x</th>\n",
       "      <th>y</th>\n",
       "      <th>z</th>\n",
       "      <th>volume</th>\n",
       "      <th>color_grp</th>\n",
       "      <th>clarity_grp</th>\n",
       "    </tr>\n",
       "  </thead>\n",
       "  <tbody>\n",
       "    <tr>\n",
       "      <th>0</th>\n",
       "      <td>0</td>\n",
       "      <td>0.79</td>\n",
       "      <td>Very Good</td>\n",
       "      <td>F</td>\n",
       "      <td>SI1</td>\n",
       "      <td>62.7</td>\n",
       "      <td>60.0</td>\n",
       "      <td>5.82</td>\n",
       "      <td>5.89</td>\n",
       "      <td>3.67</td>\n",
       "      <td>125.806866</td>\n",
       "      <td>Colorless</td>\n",
       "      <td>Fair</td>\n",
       "    </tr>\n",
       "    <tr>\n",
       "      <th>1</th>\n",
       "      <td>1</td>\n",
       "      <td>1.20</td>\n",
       "      <td>Ideal</td>\n",
       "      <td>J</td>\n",
       "      <td>VS1</td>\n",
       "      <td>61.0</td>\n",
       "      <td>57.0</td>\n",
       "      <td>6.81</td>\n",
       "      <td>6.89</td>\n",
       "      <td>4.18</td>\n",
       "      <td>196.129362</td>\n",
       "      <td>Near Colorless</td>\n",
       "      <td>Good</td>\n",
       "    </tr>\n",
       "    <tr>\n",
       "      <th>2</th>\n",
       "      <td>2</td>\n",
       "      <td>1.57</td>\n",
       "      <td>Premium</td>\n",
       "      <td>H</td>\n",
       "      <td>SI1</td>\n",
       "      <td>62.2</td>\n",
       "      <td>61.0</td>\n",
       "      <td>7.38</td>\n",
       "      <td>7.32</td>\n",
       "      <td>4.57</td>\n",
       "      <td>246.878712</td>\n",
       "      <td>Near Colorless</td>\n",
       "      <td>Fair</td>\n",
       "    </tr>\n",
       "    <tr>\n",
       "      <th>3</th>\n",
       "      <td>3</td>\n",
       "      <td>0.90</td>\n",
       "      <td>Very Good</td>\n",
       "      <td>F</td>\n",
       "      <td>SI1</td>\n",
       "      <td>63.8</td>\n",
       "      <td>54.0</td>\n",
       "      <td>6.09</td>\n",
       "      <td>6.13</td>\n",
       "      <td>3.90</td>\n",
       "      <td>145.593630</td>\n",
       "      <td>Colorless</td>\n",
       "      <td>Fair</td>\n",
       "    </tr>\n",
       "    <tr>\n",
       "      <th>4</th>\n",
       "      <td>4</td>\n",
       "      <td>0.50</td>\n",
       "      <td>Very Good</td>\n",
       "      <td>F</td>\n",
       "      <td>VS1</td>\n",
       "      <td>62.9</td>\n",
       "      <td>58.0</td>\n",
       "      <td>5.05</td>\n",
       "      <td>5.09</td>\n",
       "      <td>3.19</td>\n",
       "      <td>81.997355</td>\n",
       "      <td>Colorless</td>\n",
       "      <td>Good</td>\n",
       "    </tr>\n",
       "  </tbody>\n",
       "</table>\n",
       "</div>"
      ],
      "text/plain": [
       "   id  carat        cut color clarity  depth  table     x     y     z  \\\n",
       "0   0   0.79  Very Good     F     SI1   62.7   60.0  5.82  5.89  3.67   \n",
       "1   1   1.20      Ideal     J     VS1   61.0   57.0  6.81  6.89  4.18   \n",
       "2   2   1.57    Premium     H     SI1   62.2   61.0  7.38  7.32  4.57   \n",
       "3   3   0.90  Very Good     F     SI1   63.8   54.0  6.09  6.13  3.90   \n",
       "4   4   0.50  Very Good     F     VS1   62.9   58.0  5.05  5.09  3.19   \n",
       "\n",
       "       volume       color_grp clarity_grp  \n",
       "0  125.806866       Colorless        Fair  \n",
       "1  196.129362  Near Colorless        Good  \n",
       "2  246.878712  Near Colorless        Fair  \n",
       "3  145.593630       Colorless        Fair  \n",
       "4   81.997355       Colorless        Good  "
      ]
     },
     "execution_count": 18,
     "metadata": {},
     "output_type": "execute_result"
    }
   ],
   "source": [
    "diamonds_predict.head()"
   ]
  },
  {
   "cell_type": "code",
   "execution_count": 19,
   "metadata": {},
   "outputs": [],
   "source": [
    "diamonds_predict['cut']=diamonds_predict['cut'].map({'Ideal':1,'Good':2,'Very Good':3,'Fair':4,'Premium':5})\n",
    "diamonds_predict['color']=diamonds_predict['color'].map({'E':1,'D':2,'F':3,'G':4,'H':5,'I':6,'J':7})\n",
    "diamonds_predict['clarity']=diamonds_predict['clarity'].map({'VVS1':1,'IF':2,'VVS2':3,'VS1':4,'I1':5,'VS2':6,'SI1':7,'SI2':8})"
   ]
  },
  {
   "cell_type": "code",
   "execution_count": 20,
   "metadata": {},
   "outputs": [],
   "source": [
    "diamonds_predict['cut/wt']=diamonds_predict['cut']/diamonds_predict['carat']\n",
    "diamonds_predict['color/wt']=diamonds_predict['color']/diamonds_predict['carat']\n",
    "diamonds_predict['clarity/wt']=diamonds_predict['clarity']/diamonds_predict['carat']\n",
    "#diamonds = diamonds.drop(['cut','color','clarity','table','depth'], axis=1)\n",
    "\n"
   ]
  },
  {
   "cell_type": "code",
   "execution_count": 21,
   "metadata": {},
   "outputs": [
    {
     "data": {
      "text/html": [
       "<div>\n",
       "<style scoped>\n",
       "    .dataframe tbody tr th:only-of-type {\n",
       "        vertical-align: middle;\n",
       "    }\n",
       "\n",
       "    .dataframe tbody tr th {\n",
       "        vertical-align: top;\n",
       "    }\n",
       "\n",
       "    .dataframe thead th {\n",
       "        text-align: right;\n",
       "    }\n",
       "</style>\n",
       "<table border=\"1\" class=\"dataframe\">\n",
       "  <thead>\n",
       "    <tr style=\"text-align: right;\">\n",
       "      <th></th>\n",
       "      <th>carat</th>\n",
       "      <th>cut</th>\n",
       "      <th>color</th>\n",
       "      <th>clarity</th>\n",
       "      <th>depth</th>\n",
       "      <th>table</th>\n",
       "      <th>price</th>\n",
       "      <th>x</th>\n",
       "      <th>y</th>\n",
       "      <th>z</th>\n",
       "      <th>volume</th>\n",
       "      <th>color_grp</th>\n",
       "      <th>clarity_grp</th>\n",
       "    </tr>\n",
       "  </thead>\n",
       "  <tbody>\n",
       "    <tr>\n",
       "      <th>0</th>\n",
       "      <td>1.21</td>\n",
       "      <td>Premium</td>\n",
       "      <td>J</td>\n",
       "      <td>VS2</td>\n",
       "      <td>62.4</td>\n",
       "      <td>58.0</td>\n",
       "      <td>4268</td>\n",
       "      <td>6.83</td>\n",
       "      <td>6.79</td>\n",
       "      <td>4.25</td>\n",
       "      <td>197.096725</td>\n",
       "      <td>Near Colorless</td>\n",
       "      <td>Good</td>\n",
       "    </tr>\n",
       "    <tr>\n",
       "      <th>1</th>\n",
       "      <td>0.32</td>\n",
       "      <td>Very Good</td>\n",
       "      <td>H</td>\n",
       "      <td>VS2</td>\n",
       "      <td>63.0</td>\n",
       "      <td>57.0</td>\n",
       "      <td>505</td>\n",
       "      <td>4.35</td>\n",
       "      <td>4.38</td>\n",
       "      <td>2.75</td>\n",
       "      <td>52.395750</td>\n",
       "      <td>Near Colorless</td>\n",
       "      <td>Good</td>\n",
       "    </tr>\n",
       "    <tr>\n",
       "      <th>2</th>\n",
       "      <td>0.71</td>\n",
       "      <td>Fair</td>\n",
       "      <td>G</td>\n",
       "      <td>VS1</td>\n",
       "      <td>65.5</td>\n",
       "      <td>55.0</td>\n",
       "      <td>2686</td>\n",
       "      <td>5.62</td>\n",
       "      <td>5.53</td>\n",
       "      <td>3.65</td>\n",
       "      <td>113.436890</td>\n",
       "      <td>Near Colorless</td>\n",
       "      <td>Good</td>\n",
       "    </tr>\n",
       "    <tr>\n",
       "      <th>3</th>\n",
       "      <td>0.41</td>\n",
       "      <td>Good</td>\n",
       "      <td>D</td>\n",
       "      <td>SI1</td>\n",
       "      <td>63.8</td>\n",
       "      <td>56.0</td>\n",
       "      <td>738</td>\n",
       "      <td>4.68</td>\n",
       "      <td>4.72</td>\n",
       "      <td>3.00</td>\n",
       "      <td>66.268800</td>\n",
       "      <td>Colorless</td>\n",
       "      <td>Fair</td>\n",
       "    </tr>\n",
       "    <tr>\n",
       "      <th>4</th>\n",
       "      <td>1.02</td>\n",
       "      <td>Ideal</td>\n",
       "      <td>G</td>\n",
       "      <td>SI1</td>\n",
       "      <td>60.5</td>\n",
       "      <td>59.0</td>\n",
       "      <td>4882</td>\n",
       "      <td>6.55</td>\n",
       "      <td>6.51</td>\n",
       "      <td>3.95</td>\n",
       "      <td>168.429975</td>\n",
       "      <td>Near Colorless</td>\n",
       "      <td>Fair</td>\n",
       "    </tr>\n",
       "  </tbody>\n",
       "</table>\n",
       "</div>"
      ],
      "text/plain": [
       "   carat        cut color clarity  depth  table  price     x     y     z  \\\n",
       "0   1.21    Premium     J     VS2   62.4   58.0   4268  6.83  6.79  4.25   \n",
       "1   0.32  Very Good     H     VS2   63.0   57.0    505  4.35  4.38  2.75   \n",
       "2   0.71       Fair     G     VS1   65.5   55.0   2686  5.62  5.53  3.65   \n",
       "3   0.41       Good     D     SI1   63.8   56.0    738  4.68  4.72  3.00   \n",
       "4   1.02      Ideal     G     SI1   60.5   59.0   4882  6.55  6.51  3.95   \n",
       "\n",
       "       volume       color_grp clarity_grp  \n",
       "0  197.096725  Near Colorless        Good  \n",
       "1   52.395750  Near Colorless        Good  \n",
       "2  113.436890  Near Colorless        Good  \n",
       "3   66.268800       Colorless        Fair  \n",
       "4  168.429975  Near Colorless        Fair  "
      ]
     },
     "execution_count": 21,
     "metadata": {},
     "output_type": "execute_result"
    }
   ],
   "source": [
    "diamonds.head()"
   ]
  },
  {
   "cell_type": "code",
   "execution_count": 22,
   "metadata": {},
   "outputs": [],
   "source": [
    "\n",
    "diamonds['cut']=diamonds['cut'].map({'Ideal':1,'Good':2,'Very Good':3,'Fair':4,'Premium':5})\n",
    "diamonds['color']=diamonds['color'].map({'E':1,'D':2,'F':3,'G':4,'H':5,'I':6,'J':7})\n",
    "diamonds['clarity']=diamonds['clarity'].map({'VVS1':1,'IF':2,'VVS2':3,'VS1':4,'I1':5,'VS2':6,'SI1':7,'SI2':8})\n",
    "\n",
    "\n",
    "diamonds['cut/wt']=diamonds['cut']/diamonds['carat']\n",
    "diamonds['color/wt']=diamonds['color']/diamonds['carat']\n",
    "diamonds['clarity/wt']=diamonds['clarity']/diamonds['carat']"
   ]
  },
  {
   "cell_type": "code",
   "execution_count": 23,
   "metadata": {},
   "outputs": [
    {
     "data": {
      "text/html": [
       "<div>\n",
       "<style scoped>\n",
       "    .dataframe tbody tr th:only-of-type {\n",
       "        vertical-align: middle;\n",
       "    }\n",
       "\n",
       "    .dataframe tbody tr th {\n",
       "        vertical-align: top;\n",
       "    }\n",
       "\n",
       "    .dataframe thead th {\n",
       "        text-align: right;\n",
       "    }\n",
       "</style>\n",
       "<table border=\"1\" class=\"dataframe\">\n",
       "  <thead>\n",
       "    <tr style=\"text-align: right;\">\n",
       "      <th></th>\n",
       "      <th>carat</th>\n",
       "      <th>cut</th>\n",
       "      <th>color</th>\n",
       "      <th>clarity</th>\n",
       "      <th>depth</th>\n",
       "      <th>table</th>\n",
       "      <th>price</th>\n",
       "      <th>x</th>\n",
       "      <th>y</th>\n",
       "      <th>z</th>\n",
       "      <th>volume</th>\n",
       "      <th>color_grp</th>\n",
       "      <th>clarity_grp</th>\n",
       "      <th>cut/wt</th>\n",
       "      <th>color/wt</th>\n",
       "      <th>clarity/wt</th>\n",
       "    </tr>\n",
       "  </thead>\n",
       "  <tbody>\n",
       "    <tr>\n",
       "      <th>0</th>\n",
       "      <td>1.21</td>\n",
       "      <td>5</td>\n",
       "      <td>7</td>\n",
       "      <td>6</td>\n",
       "      <td>62.4</td>\n",
       "      <td>58.0</td>\n",
       "      <td>4268</td>\n",
       "      <td>6.83</td>\n",
       "      <td>6.79</td>\n",
       "      <td>4.25</td>\n",
       "      <td>197.096725</td>\n",
       "      <td>Near Colorless</td>\n",
       "      <td>Good</td>\n",
       "      <td>4.132231</td>\n",
       "      <td>5.785124</td>\n",
       "      <td>4.958678</td>\n",
       "    </tr>\n",
       "    <tr>\n",
       "      <th>1</th>\n",
       "      <td>0.32</td>\n",
       "      <td>3</td>\n",
       "      <td>5</td>\n",
       "      <td>6</td>\n",
       "      <td>63.0</td>\n",
       "      <td>57.0</td>\n",
       "      <td>505</td>\n",
       "      <td>4.35</td>\n",
       "      <td>4.38</td>\n",
       "      <td>2.75</td>\n",
       "      <td>52.395750</td>\n",
       "      <td>Near Colorless</td>\n",
       "      <td>Good</td>\n",
       "      <td>9.375000</td>\n",
       "      <td>15.625000</td>\n",
       "      <td>18.750000</td>\n",
       "    </tr>\n",
       "    <tr>\n",
       "      <th>2</th>\n",
       "      <td>0.71</td>\n",
       "      <td>4</td>\n",
       "      <td>4</td>\n",
       "      <td>4</td>\n",
       "      <td>65.5</td>\n",
       "      <td>55.0</td>\n",
       "      <td>2686</td>\n",
       "      <td>5.62</td>\n",
       "      <td>5.53</td>\n",
       "      <td>3.65</td>\n",
       "      <td>113.436890</td>\n",
       "      <td>Near Colorless</td>\n",
       "      <td>Good</td>\n",
       "      <td>5.633803</td>\n",
       "      <td>5.633803</td>\n",
       "      <td>5.633803</td>\n",
       "    </tr>\n",
       "    <tr>\n",
       "      <th>3</th>\n",
       "      <td>0.41</td>\n",
       "      <td>2</td>\n",
       "      <td>2</td>\n",
       "      <td>7</td>\n",
       "      <td>63.8</td>\n",
       "      <td>56.0</td>\n",
       "      <td>738</td>\n",
       "      <td>4.68</td>\n",
       "      <td>4.72</td>\n",
       "      <td>3.00</td>\n",
       "      <td>66.268800</td>\n",
       "      <td>Colorless</td>\n",
       "      <td>Fair</td>\n",
       "      <td>4.878049</td>\n",
       "      <td>4.878049</td>\n",
       "      <td>17.073171</td>\n",
       "    </tr>\n",
       "    <tr>\n",
       "      <th>4</th>\n",
       "      <td>1.02</td>\n",
       "      <td>1</td>\n",
       "      <td>4</td>\n",
       "      <td>7</td>\n",
       "      <td>60.5</td>\n",
       "      <td>59.0</td>\n",
       "      <td>4882</td>\n",
       "      <td>6.55</td>\n",
       "      <td>6.51</td>\n",
       "      <td>3.95</td>\n",
       "      <td>168.429975</td>\n",
       "      <td>Near Colorless</td>\n",
       "      <td>Fair</td>\n",
       "      <td>0.980392</td>\n",
       "      <td>3.921569</td>\n",
       "      <td>6.862745</td>\n",
       "    </tr>\n",
       "  </tbody>\n",
       "</table>\n",
       "</div>"
      ],
      "text/plain": [
       "   carat  cut  color  clarity  depth  table  price     x     y     z  \\\n",
       "0   1.21    5      7        6   62.4   58.0   4268  6.83  6.79  4.25   \n",
       "1   0.32    3      5        6   63.0   57.0    505  4.35  4.38  2.75   \n",
       "2   0.71    4      4        4   65.5   55.0   2686  5.62  5.53  3.65   \n",
       "3   0.41    2      2        7   63.8   56.0    738  4.68  4.72  3.00   \n",
       "4   1.02    1      4        7   60.5   59.0   4882  6.55  6.51  3.95   \n",
       "\n",
       "       volume       color_grp clarity_grp    cut/wt   color/wt  clarity/wt  \n",
       "0  197.096725  Near Colorless        Good  4.132231   5.785124    4.958678  \n",
       "1   52.395750  Near Colorless        Good  9.375000  15.625000   18.750000  \n",
       "2  113.436890  Near Colorless        Good  5.633803   5.633803    5.633803  \n",
       "3   66.268800       Colorless        Fair  4.878049   4.878049   17.073171  \n",
       "4  168.429975  Near Colorless        Fair  0.980392   3.921569    6.862745  "
      ]
     },
     "execution_count": 23,
     "metadata": {},
     "output_type": "execute_result"
    }
   ],
   "source": [
    "diamonds.head()"
   ]
  },
  {
   "cell_type": "markdown",
   "metadata": {},
   "source": [
    "## 3. Preprocessing"
   ]
  },
  {
   "cell_type": "markdown",
   "metadata": {},
   "source": [
    "in this section I will teach how to use scikit-learn's Pipiline and ColumnTransformer, one of the best practices for composing preprocessing and modeling in a single and elegand class... pay attention as it is hard to understand..."
   ]
  },
  {
   "cell_type": "code",
   "execution_count": 24,
   "metadata": {},
   "outputs": [],
   "source": [
    "from sklearn.pipeline import Pipeline\n",
    "from sklearn.compose import ColumnTransformer\n",
    "from sklearn.impute import SimpleImputer\n",
    "from sklearn.preprocessing import StandardScaler\n",
    "from sklearn.preprocessing import OneHotEncoder, OrdinalEncoder\n",
    "from sklearn.preprocessing import PolynomialFeatures\n",
    "from sklearn.preprocessing import KBinsDiscretizer\n",
    "from sklearn.preprocessing import RobustScaler\n",
    "from sklearn.preprocessing import MinMaxScaler\n",
    "from sklearn.preprocessing import MaxAbsScaler"
   ]
  },
  {
   "cell_type": "markdown",
   "metadata": {},
   "source": [
    "* https://scikit-learn.org/stable/modules/generated/sklearn.pipeline.Pipeline.html\n",
    "* https://scikit-learn.org/stable/modules/generated/sklearn.impute.SimpleImputer.html#sklearn.impute.SimpleImputer\n",
    "* https://scikit-learn.org/stable/modules/generated/sklearn.preprocessing.StandardScaler.html\n",
    "* https://scikit-learn.org/stable/modules/generated/sklearn.preprocessing.OneHotEncoder.html"
   ]
  },
  {
   "cell_type": "markdown",
   "metadata": {},
   "source": [
    "let's identify numerical and categorical features..."
   ]
  },
  {
   "cell_type": "code",
   "execution_count": 25,
   "metadata": {},
   "outputs": [],
   "source": [
    "NUM_FEATS = ['carat', 'x', 'y', 'z', 'cut/wt', 'color/wt', 'clarity/wt', 'depth', 'table', 'cut', 'color', 'clarity']\n",
    "CAT_FEATS = ['color_grp', 'clarity_grp']\n",
    "FEATS = NUM_FEATS + CAT_FEATS\n",
    "TARGET = 'price'"
   ]
  },
  {
   "cell_type": "markdown",
   "metadata": {},
   "source": [
    "let's define a preprocessing transformer for numerical columns..."
   ]
  },
  {
   "cell_type": "code",
   "execution_count": 26,
   "metadata": {},
   "outputs": [],
   "source": [
    "numeric_transformer = \\\n",
    "Pipeline(steps=[('imputer', SimpleImputer(strategy='mean')), \n",
    "               ('robustscaler', StandardScaler()),\n",
    "               #('poly', PolynomialFeatures()), \n",
    "               #('disc', KBinsDiscretizer())\n",
    "               ])"
   ]
  },
  {
   "cell_type": "markdown",
   "metadata": {},
   "source": [
    "let's define a preprocessing transformer for categorical columns..."
   ]
  },
  {
   "cell_type": "code",
   "execution_count": 27,
   "metadata": {},
   "outputs": [],
   "source": [
    "categorical_transformer = \\\n",
    "Pipeline(steps=[('imputer', SimpleImputer(strategy='constant')),\n",
    "                ('onehot', OneHotEncoder(handle_unknown='ignore'))])"
   ]
  },
  {
   "cell_type": "markdown",
   "metadata": {},
   "source": [
    "let's join these transformers using a `ColumnTransformer`:"
   ]
  },
  {
   "cell_type": "code",
   "execution_count": 28,
   "metadata": {},
   "outputs": [],
   "source": [
    "preprocessor = \\\n",
    "ColumnTransformer(transformers=[('num', numeric_transformer, NUM_FEATS),\n",
    "                                ('cat', categorical_transformer, CAT_FEATS)\n",
    "                               ])"
   ]
  },
  {
   "cell_type": "markdown",
   "metadata": {},
   "source": [
    "inspecting the full preprocessor:"
   ]
  },
  {
   "cell_type": "code",
   "execution_count": 29,
   "metadata": {},
   "outputs": [
    {
     "data": {
      "text/plain": [
       "ColumnTransformer(transformers=[('num',\n",
       "                                 Pipeline(steps=[('imputer', SimpleImputer()),\n",
       "                                                 ('robustscaler',\n",
       "                                                  StandardScaler())]),\n",
       "                                 ['carat', 'x', 'y', 'z', 'cut/wt', 'color/wt',\n",
       "                                  'clarity/wt', 'depth', 'table', 'cut',\n",
       "                                  'color', 'clarity']),\n",
       "                                ('cat',\n",
       "                                 Pipeline(steps=[('imputer',\n",
       "                                                  SimpleImputer(strategy='constant')),\n",
       "                                                 ('onehot',\n",
       "                                                  OneHotEncoder(handle_unknown='ignore'))]),\n",
       "                                 ['color_grp', 'clarity_grp'])])"
      ]
     },
     "execution_count": 29,
     "metadata": {},
     "output_type": "execute_result"
    }
   ],
   "source": [
    "preprocessor"
   ]
  },
  {
   "cell_type": "markdown",
   "metadata": {},
   "source": [
    "how does this preprocessing looks like?"
   ]
  },
  {
   "cell_type": "markdown",
   "metadata": {},
   "source": [
    "at least in this case, it is at the cost of interpretability of transformed DataFrame..."
   ]
  },
  {
   "cell_type": "code",
   "execution_count": 30,
   "metadata": {},
   "outputs": [
    {
     "data": {
      "text/html": [
       "<div>\n",
       "<style scoped>\n",
       "    .dataframe tbody tr th:only-of-type {\n",
       "        vertical-align: middle;\n",
       "    }\n",
       "\n",
       "    .dataframe tbody tr th {\n",
       "        vertical-align: top;\n",
       "    }\n",
       "\n",
       "    .dataframe thead th {\n",
       "        text-align: right;\n",
       "    }\n",
       "</style>\n",
       "<table border=\"1\" class=\"dataframe\">\n",
       "  <thead>\n",
       "    <tr style=\"text-align: right;\">\n",
       "      <th></th>\n",
       "      <th>0</th>\n",
       "      <th>1</th>\n",
       "      <th>2</th>\n",
       "      <th>3</th>\n",
       "      <th>4</th>\n",
       "      <th>5</th>\n",
       "      <th>6</th>\n",
       "      <th>7</th>\n",
       "      <th>8</th>\n",
       "      <th>9</th>\n",
       "      <th>10</th>\n",
       "      <th>11</th>\n",
       "      <th>12</th>\n",
       "      <th>13</th>\n",
       "      <th>14</th>\n",
       "      <th>15</th>\n",
       "      <th>16</th>\n",
       "      <th>17</th>\n",
       "      <th>18</th>\n",
       "    </tr>\n",
       "  </thead>\n",
       "  <tbody>\n",
       "    <tr>\n",
       "      <th>0</th>\n",
       "      <td>0.867006</td>\n",
       "      <td>0.978807</td>\n",
       "      <td>0.921985</td>\n",
       "      <td>1.022657</td>\n",
       "      <td>-0.067975</td>\n",
       "      <td>-0.009640</td>\n",
       "      <td>-0.713333</td>\n",
       "      <td>0.452019</td>\n",
       "      <td>0.247981</td>\n",
       "      <td>1.457012</td>\n",
       "      <td>1.954885</td>\n",
       "      <td>0.232036</td>\n",
       "      <td>0.0</td>\n",
       "      <td>1.0</td>\n",
       "      <td>0.0</td>\n",
       "      <td>0.0</td>\n",
       "      <td>1.0</td>\n",
       "      <td>0.0</td>\n",
       "      <td>0.0</td>\n",
       "    </tr>\n",
       "    <tr>\n",
       "      <th>1</th>\n",
       "      <td>-1.004557</td>\n",
       "      <td>-1.226738</td>\n",
       "      <td>-1.179816</td>\n",
       "      <td>-1.129259</td>\n",
       "      <td>1.307815</td>\n",
       "      <td>2.256215</td>\n",
       "      <td>1.784886</td>\n",
       "      <td>0.871099</td>\n",
       "      <td>-0.199745</td>\n",
       "      <td>0.219693</td>\n",
       "      <td>0.823922</td>\n",
       "      <td>0.232036</td>\n",
       "      <td>0.0</td>\n",
       "      <td>1.0</td>\n",
       "      <td>0.0</td>\n",
       "      <td>0.0</td>\n",
       "      <td>1.0</td>\n",
       "      <td>0.0</td>\n",
       "      <td>0.0</td>\n",
       "    </tr>\n",
       "    <tr>\n",
       "      <th>2</th>\n",
       "      <td>-0.184434</td>\n",
       "      <td>-0.097286</td>\n",
       "      <td>-0.176882</td>\n",
       "      <td>0.161891</td>\n",
       "      <td>0.326063</td>\n",
       "      <td>-0.044485</td>\n",
       "      <td>-0.591038</td>\n",
       "      <td>2.617265</td>\n",
       "      <td>-1.095198</td>\n",
       "      <td>0.838352</td>\n",
       "      <td>0.258440</td>\n",
       "      <td>-0.722753</td>\n",
       "      <td>0.0</td>\n",
       "      <td>1.0</td>\n",
       "      <td>0.0</td>\n",
       "      <td>0.0</td>\n",
       "      <td>1.0</td>\n",
       "      <td>0.0</td>\n",
       "      <td>0.0</td>\n",
       "    </tr>\n",
       "    <tr>\n",
       "      <th>3</th>\n",
       "      <td>-0.815298</td>\n",
       "      <td>-0.933258</td>\n",
       "      <td>-0.883296</td>\n",
       "      <td>-0.770607</td>\n",
       "      <td>0.127740</td>\n",
       "      <td>-0.218515</td>\n",
       "      <td>1.481138</td>\n",
       "      <td>1.429872</td>\n",
       "      <td>-0.647472</td>\n",
       "      <td>-0.398967</td>\n",
       "      <td>-0.872523</td>\n",
       "      <td>0.709430</td>\n",
       "      <td>1.0</td>\n",
       "      <td>0.0</td>\n",
       "      <td>0.0</td>\n",
       "      <td>1.0</td>\n",
       "      <td>0.0</td>\n",
       "      <td>0.0</td>\n",
       "      <td>0.0</td>\n",
       "    </tr>\n",
       "    <tr>\n",
       "      <th>4</th>\n",
       "      <td>0.467458</td>\n",
       "      <td>0.729794</td>\n",
       "      <td>0.677793</td>\n",
       "      <td>0.592274</td>\n",
       "      <td>-0.895070</td>\n",
       "      <td>-0.438766</td>\n",
       "      <td>-0.368422</td>\n",
       "      <td>-0.875068</td>\n",
       "      <td>0.695707</td>\n",
       "      <td>-1.017627</td>\n",
       "      <td>0.258440</td>\n",
       "      <td>0.709430</td>\n",
       "      <td>0.0</td>\n",
       "      <td>1.0</td>\n",
       "      <td>0.0</td>\n",
       "      <td>1.0</td>\n",
       "      <td>0.0</td>\n",
       "      <td>0.0</td>\n",
       "      <td>0.0</td>\n",
       "    </tr>\n",
       "  </tbody>\n",
       "</table>\n",
       "</div>"
      ],
      "text/plain": [
       "          0         1         2         3         4         5         6  \\\n",
       "0  0.867006  0.978807  0.921985  1.022657 -0.067975 -0.009640 -0.713333   \n",
       "1 -1.004557 -1.226738 -1.179816 -1.129259  1.307815  2.256215  1.784886   \n",
       "2 -0.184434 -0.097286 -0.176882  0.161891  0.326063 -0.044485 -0.591038   \n",
       "3 -0.815298 -0.933258 -0.883296 -0.770607  0.127740 -0.218515  1.481138   \n",
       "4  0.467458  0.729794  0.677793  0.592274 -0.895070 -0.438766 -0.368422   \n",
       "\n",
       "          7         8         9        10        11   12   13   14   15   16  \\\n",
       "0  0.452019  0.247981  1.457012  1.954885  0.232036  0.0  1.0  0.0  0.0  1.0   \n",
       "1  0.871099 -0.199745  0.219693  0.823922  0.232036  0.0  1.0  0.0  0.0  1.0   \n",
       "2  2.617265 -1.095198  0.838352  0.258440 -0.722753  0.0  1.0  0.0  0.0  1.0   \n",
       "3  1.429872 -0.647472 -0.398967 -0.872523  0.709430  1.0  0.0  0.0  1.0  0.0   \n",
       "4 -0.875068  0.695707 -1.017627  0.258440  0.709430  0.0  1.0  0.0  1.0  0.0   \n",
       "\n",
       "    17   18  \n",
       "0  0.0  0.0  \n",
       "1  0.0  0.0  \n",
       "2  0.0  0.0  \n",
       "3  0.0  0.0  \n",
       "4  0.0  0.0  "
      ]
     },
     "execution_count": 30,
     "metadata": {},
     "output_type": "execute_result"
    }
   ],
   "source": [
    "pd.DataFrame(data=preprocessor.fit_transform(diamonds)).head()"
   ]
  },
  {
   "cell_type": "markdown",
   "metadata": {},
   "source": [
    "## 4. Train a simple model"
   ]
  },
  {
   "cell_type": "markdown",
   "metadata": {},
   "source": [
    "first, lets train a simple model using holdout, train - test split..."
   ]
  },
  {
   "cell_type": "code",
   "execution_count": 31,
   "metadata": {},
   "outputs": [],
   "source": [
    "from sklearn.model_selection import train_test_split"
   ]
  },
  {
   "cell_type": "code",
   "execution_count": 32,
   "metadata": {},
   "outputs": [],
   "source": [
    "diamonds_train, diamonds_test = train_test_split(diamonds, test_size=0.2)"
   ]
  },
  {
   "cell_type": "code",
   "execution_count": 33,
   "metadata": {},
   "outputs": [
    {
     "name": "stdout",
     "output_type": "stream",
     "text": [
      "(32364, 16)\n",
      "(8091, 16)\n"
     ]
    }
   ],
   "source": [
    "print(diamonds_train.shape)\n",
    "print(diamonds_test.shape)"
   ]
  },
  {
   "cell_type": "markdown",
   "metadata": {},
   "source": [
    "let's choose a model from scikit-learn cheatsheet: https://scikit-learn.org/stable/tutorial/machine_learning_map/index.html"
   ]
  },
  {
   "cell_type": "code",
   "execution_count": 79,
   "metadata": {},
   "outputs": [],
   "source": [
    "from sklearn.ensemble import RandomForestRegressor\n",
    "\n",
    "model= Pipeline(steps=[('preprocessor', preprocessor),\n",
    "                       ('regressor', RandomForestRegressor(#n_jobs=-1, \n",
    "                                                           max_depth=500, \n",
    "                                                           min_samples_split=23\n",
    "                       ))])"
   ]
  },
  {
   "cell_type": "code",
   "execution_count": 80,
   "metadata": {},
   "outputs": [],
   "source": [
    "model.fit(diamonds_train[FEATS], diamonds_train[TARGET]);"
   ]
  },
  {
   "cell_type": "markdown",
   "metadata": {},
   "source": [
    "## 5. Check model performance"
   ]
  },
  {
   "cell_type": "code",
   "execution_count": 81,
   "metadata": {},
   "outputs": [],
   "source": [
    "from sklearn.metrics import mean_squared_error"
   ]
  },
  {
   "cell_type": "code",
   "execution_count": 82,
   "metadata": {},
   "outputs": [],
   "source": [
    "y_test = model.predict(diamonds_test[FEATS])\n",
    "y_train = model.predict(diamonds_train[FEATS])"
   ]
  },
  {
   "cell_type": "code",
   "execution_count": 83,
   "metadata": {},
   "outputs": [
    {
     "name": "stdout",
     "output_type": "stream",
     "text": [
      "test error: 591.1879018522324\n",
      "train error: 407.2835903104117\n"
     ]
    }
   ],
   "source": [
    "print(f\"test error: {mean_squared_error(y_pred=y_test, y_true=diamonds_test[TARGET], squared=False)}\")\n",
    "print(f\"train error: {mean_squared_error(y_pred=y_train, y_true=diamonds_train[TARGET], squared=False)}\")"
   ]
  },
  {
   "cell_type": "markdown",
   "metadata": {},
   "source": [
    "## 6. Check model performance using cross validation"
   ]
  },
  {
   "cell_type": "code",
   "execution_count": 37,
   "metadata": {},
   "outputs": [],
   "source": [
    "from sklearn.model_selection import cross_val_score"
   ]
  },
  {
   "cell_type": "code",
   "execution_count": 38,
   "metadata": {},
   "outputs": [],
   "source": [
    "scores = cross_val_score(model, \n",
    "                         diamonds[FEATS], \n",
    "                         diamonds[TARGET], \n",
    "                         scoring='neg_root_mean_squared_error',\n",
    "                         cv=5,n_jobs=-1)"
   ]
  },
  {
   "cell_type": "code",
   "execution_count": 39,
   "metadata": {},
   "outputs": [
    {
     "data": {
      "text/plain": [
       "548.0031057890975"
      ]
     },
     "execution_count": 39,
     "metadata": {},
     "output_type": "execute_result"
    }
   ],
   "source": [
    "import numpy as np\n",
    "np.mean(-scores)"
   ]
  },
  {
   "cell_type": "markdown",
   "metadata": {},
   "source": [
    "## 7. Optimize model using grid search"
   ]
  },
  {
   "cell_type": "code",
   "execution_count": 40,
   "metadata": {},
   "outputs": [],
   "source": [
    "from sklearn.model_selection import RandomizedSearchCV"
   ]
  },
  {
   "cell_type": "code",
   "execution_count": 41,
   "metadata": {},
   "outputs": [
    {
     "name": "stdout",
     "output_type": "stream",
     "text": [
      "Fitting 5 folds for each of 32 candidates, totalling 160 fits\n"
     ]
    },
    {
     "name": "stderr",
     "output_type": "stream",
     "text": [
      "[Parallel(n_jobs=-1)]: Using backend LokyBackend with 8 concurrent workers.\n",
      "[Parallel(n_jobs=-1)]: Done   2 tasks      | elapsed:    7.0s\n",
      "[Parallel(n_jobs=-1)]: Done   9 tasks      | elapsed:   26.0s\n",
      "[Parallel(n_jobs=-1)]: Done  16 tasks      | elapsed:   48.3s\n",
      "[Parallel(n_jobs=-1)]: Done  25 tasks      | elapsed:  1.1min\n",
      "[Parallel(n_jobs=-1)]: Done  34 tasks      | elapsed:  2.0min\n",
      "[Parallel(n_jobs=-1)]: Done  45 tasks      | elapsed:  2.5min\n",
      "[Parallel(n_jobs=-1)]: Done  56 tasks      | elapsed:  2.7min\n",
      "[Parallel(n_jobs=-1)]: Done  69 tasks      | elapsed:  5.2min\n",
      "[Parallel(n_jobs=-1)]: Done  82 tasks      | elapsed:  6.1min\n",
      "[Parallel(n_jobs=-1)]: Done  97 tasks      | elapsed:  6.3min\n",
      "[Parallel(n_jobs=-1)]: Done 112 tasks      | elapsed:  8.2min\n",
      "[Parallel(n_jobs=-1)]: Done 129 tasks      | elapsed:  9.7min\n",
      "[Parallel(n_jobs=-1)]: Done 160 out of 160 | elapsed: 14.2min finished\n"
     ]
    },
    {
     "data": {
      "text/plain": [
       "RandomizedSearchCV(cv=5,\n",
       "                   estimator=Pipeline(steps=[('preprocessor',\n",
       "                                              ColumnTransformer(transformers=[('num',\n",
       "                                                                               Pipeline(steps=[('imputer',\n",
       "                                                                                                SimpleImputer()),\n",
       "                                                                                               ('robustscaler',\n",
       "                                                                                                StandardScaler())]),\n",
       "                                                                               ['carat',\n",
       "                                                                                'x',\n",
       "                                                                                'y',\n",
       "                                                                                'z',\n",
       "                                                                                'cut/wt',\n",
       "                                                                                'color/wt',\n",
       "                                                                                'clarity/wt',\n",
       "                                                                                'depth',\n",
       "                                                                                'table']),\n",
       "                                                                              ('cat',\n",
       "                                                                               Pipeline(steps=[('imputer',\n",
       "                                                                                                SimpleImputer(strategy='constant')),\n",
       "                                                                                               ('onehot',\n",
       "                                                                                                OneHotEncoder(handle_unknown='ignore'))]),\n",
       "                                                                               ['cut',\n",
       "                                                                                'color',\n",
       "                                                                                'clarity'])])),\n",
       "                                             ('regressor',\n",
       "                                              RandomForestRegressor(min_samples_split=25))]),\n",
       "                   n_iter=32, n_jobs=-1,\n",
       "                   param_distributions={'preprocessor__num__imputer__strategy': ['mean',\n",
       "                                                                                 'median'],\n",
       "                                        'regressor__max_depth': [2, 4, 8, 16],\n",
       "                                        'regressor__n_estimators': [16, 32, 64,\n",
       "                                                                    128, 256,\n",
       "                                                                    512]},\n",
       "                   scoring='neg_root_mean_squared_error', verbose=10)"
      ]
     },
     "execution_count": 41,
     "metadata": {},
     "output_type": "execute_result"
    }
   ],
   "source": [
    "param_grid = {\n",
    "    'preprocessor__num__imputer__strategy': ['mean', 'median'],\n",
    "    'regressor__n_estimators': [16, 32, 64, 128, 256, 512],\n",
    "    'regressor__max_depth': [2, 4, 8, 16],\n",
    "}\n",
    "\n",
    "grid_search = RandomizedSearchCV(model, \n",
    "                                 param_grid, \n",
    "                                 cv=5, \n",
    "                                 verbose=10, \n",
    "                                 scoring='neg_root_mean_squared_error', \n",
    "                                 n_jobs=-1,\n",
    "                                 n_iter=32)\n",
    "\n",
    "grid_search.fit(diamonds[FEATS], diamonds[TARGET])"
   ]
  },
  {
   "cell_type": "code",
   "execution_count": 42,
   "metadata": {},
   "outputs": [
    {
     "data": {
      "text/plain": [
       "{'regressor__n_estimators': 512,\n",
       " 'regressor__max_depth': 16,\n",
       " 'preprocessor__num__imputer__strategy': 'mean'}"
      ]
     },
     "execution_count": 42,
     "metadata": {},
     "output_type": "execute_result"
    }
   ],
   "source": [
    "grid_search.best_params_"
   ]
  },
  {
   "cell_type": "code",
   "execution_count": 43,
   "metadata": {},
   "outputs": [
    {
     "data": {
      "text/plain": [
       "-547.3952539730572"
      ]
     },
     "execution_count": 43,
     "metadata": {},
     "output_type": "execute_result"
    }
   ],
   "source": [
    "grid_search.best_score_"
   ]
  },
  {
   "cell_type": "markdown",
   "metadata": {},
   "source": [
    "## 8. Submission"
   ]
  },
  {
   "cell_type": "code",
   "execution_count": 44,
   "metadata": {},
   "outputs": [],
   "source": [
    "y_pred = grid_search.predict(diamonds_predict[FEATS])"
   ]
  },
  {
   "cell_type": "code",
   "execution_count": 45,
   "metadata": {},
   "outputs": [],
   "source": [
    "submission_df = pd.DataFrame({'id': diamonds_predict['id'], 'price': y_pred})"
   ]
  },
  {
   "cell_type": "code",
   "execution_count": 46,
   "metadata": {},
   "outputs": [
    {
     "data": {
      "text/html": [
       "<div>\n",
       "<style scoped>\n",
       "    .dataframe tbody tr th:only-of-type {\n",
       "        vertical-align: middle;\n",
       "    }\n",
       "\n",
       "    .dataframe tbody tr th {\n",
       "        vertical-align: top;\n",
       "    }\n",
       "\n",
       "    .dataframe thead th {\n",
       "        text-align: right;\n",
       "    }\n",
       "</style>\n",
       "<table border=\"1\" class=\"dataframe\">\n",
       "  <thead>\n",
       "    <tr style=\"text-align: right;\">\n",
       "      <th></th>\n",
       "      <th>id</th>\n",
       "      <th>price</th>\n",
       "    </tr>\n",
       "  </thead>\n",
       "  <tbody>\n",
       "    <tr>\n",
       "      <th>0</th>\n",
       "      <td>0</td>\n",
       "      <td>3019.398312</td>\n",
       "    </tr>\n",
       "    <tr>\n",
       "      <th>1</th>\n",
       "      <td>1</td>\n",
       "      <td>5371.722228</td>\n",
       "    </tr>\n",
       "    <tr>\n",
       "      <th>2</th>\n",
       "      <td>2</td>\n",
       "      <td>9858.855654</td>\n",
       "    </tr>\n",
       "    <tr>\n",
       "      <th>3</th>\n",
       "      <td>3</td>\n",
       "      <td>4099.328766</td>\n",
       "    </tr>\n",
       "    <tr>\n",
       "      <th>4</th>\n",
       "      <td>4</td>\n",
       "      <td>1697.108515</td>\n",
       "    </tr>\n",
       "  </tbody>\n",
       "</table>\n",
       "</div>"
      ],
      "text/plain": [
       "   id        price\n",
       "0   0  3019.398312\n",
       "1   1  5371.722228\n",
       "2   2  9858.855654\n",
       "3   3  4099.328766\n",
       "4   4  1697.108515"
      ]
     },
     "execution_count": 46,
     "metadata": {},
     "output_type": "execute_result"
    }
   ],
   "source": [
    "submission_df.head()"
   ]
  },
  {
   "cell_type": "code",
   "execution_count": 47,
   "metadata": {},
   "outputs": [
    {
     "data": {
      "text/plain": [
       "id       13484.000000\n",
       "price    17957.861457\n",
       "dtype: float64"
      ]
     },
     "execution_count": 47,
     "metadata": {},
     "output_type": "execute_result"
    }
   ],
   "source": [
    "submission_df.max()"
   ]
  },
  {
   "cell_type": "code",
   "execution_count": 48,
   "metadata": {},
   "outputs": [],
   "source": [
    "submission_df.price.clip(0, 19000, inplace=True)"
   ]
  },
  {
   "cell_type": "code",
   "execution_count": 49,
   "metadata": {},
   "outputs": [],
   "source": [
    "submission_df.to_csv('diamonds_rf_6.csv', index=False)"
   ]
  }
 ],
 "metadata": {
  "kernelspec": {
   "display_name": "Python [conda env:ih_project]",
   "language": "python",
   "name": "conda-env-ih_project-py"
  },
  "language_info": {
   "codemirror_mode": {
    "name": "ipython",
    "version": 3
   },
   "file_extension": ".py",
   "mimetype": "text/x-python",
   "name": "python",
   "nbconvert_exporter": "python",
   "pygments_lexer": "ipython3",
   "version": "3.7.7"
  }
 },
 "nbformat": 4,
 "nbformat_minor": 4
}
